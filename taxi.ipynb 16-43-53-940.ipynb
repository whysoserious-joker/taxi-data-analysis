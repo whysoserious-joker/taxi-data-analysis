{
 "cells": [
  {
   "cell_type": "code",
   "execution_count": null,
   "id": "c2da6685-2e01-427b-9806-683eb2215cb2",
   "metadata": {
    "tags": []
   },
   "outputs": [],
   "source": [
    "import csv\n",
    "import math\n",
    "import seaborn as sns     \n",
    "sns.set()\n",
    "import matplotlib.pyplot as plt\n",
    "%matplotlib inline"
   ]
  },
  {
   "cell_type": "code",
   "execution_count": null,
   "id": "233f6038-9cfe-4440-9b53-0587eb07f118",
   "metadata": {
    "tags": []
   },
   "outputs": [],
   "source": [
    "import csv\n",
    "f=open(\"trip_data_1.csv\",'r')\n",
    "r=csv.reader(f)\n",
    "n=0\n",
    "for row in r:\n",
    "    print(row)\n",
    "    print(type(row))\n",
    "    n+=1\n",
    "    if n>5:\n",
    "        break\n"
   ]
  },
  {
   "cell_type": "markdown",
   "id": "9cdaadf1-43d7-4a2d-89fa-5b799a8e4720",
   "metadata": {},
   "source": [
    "In this project we will analyze a dataset which contains information about taxi rides in NYC.  The data set is quite large so getting a basic idea of what the data contains is important.  Each student should use one of the CSV files.  Answer the following questions:\n",
    "\n",
    "- What datetime range does your data cover?  How many rows are there total?\n",
    "- What are the field names?  Give descriptions for each field.\n",
    "- Give some sample data for each field.\n",
    "- What MySQL data types / len would you need to store each of the fields?\n",
    "    int(xx), varchar(xx),date,datetime,bool, decimal(m,d)\n",
    "- What is the geographic range of your data (min/max - X/Y)?\n",
    "    Plot this (approximately on a map)\n",
    "- What is the average computed trip distance? (You should use Haversine Distance)\n",
    "- Draw a histogram of the trip distances binned anyway you see fit.\n",
    "- What are the distinct values for each field? (If applicable)\n",
    "- For other numeric types besides lat and lon, what are the min and max values?\n",
    "- Create a chart which shows the average number of passengers each hour of the day. (X axis should have 24 hours)\n",
    "- Create a new CSV file which has only one out of every thousand rows.\n",
    "- Repeat step 9 with the reduced dataset and compare the two charts.\n",
    "\n"
   ]
  },
  {
   "cell_type": "markdown",
   "id": "03c90e78-bc25-40f8-a2fc-5a443e7bf529",
   "metadata": {},
   "source": [
    "#### 1. What datetime range does your data cover? How many rows are there total?\n"
   ]
  },
  {
   "cell_type": "code",
   "execution_count": null,
   "id": "a06a9e1d-7be0-4123-8638-5ebee53622d6",
   "metadata": {
    "tags": []
   },
   "outputs": [],
   "source": [
    "import datetime as dt\n",
    "import time\n",
    "start=time.time()\n",
    "total_rows=0\n",
    "d=[]\n",
    "f=open(\"trip_data_1.csv\",'r')\n",
    "r=csv.reader(f)\n",
    "total_rows=0\n",
    "for row in r:\n",
    "    if total_rows!=0:\n",
    "        pickup_date=dt.datetime.strptime(row[5],\"%Y-%m-%d %H:%M:%S\")\n",
    "        d.append(pickup_date)\n",
    "    total_rows+=1\n",
    "print(\"Total Rows: \",total_rows)\n",
    "print(\"Datetime Range: from {a} to {b}\".format(a=min(d),b=max(d)))\n",
    "print(\"Time taken:\",time.time()-start)"
   ]
  },
  {
   "cell_type": "markdown",
   "id": "55eaaa10-4cf6-47c0-a7a9-288818999395",
   "metadata": {},
   "source": [
    "#### 2. What are the field names? Give descriptions for each field."
   ]
  },
  {
   "cell_type": "code",
   "execution_count": null,
   "id": "1d61347e-6e1e-41eb-9d72-fb9f67ca1e2f",
   "metadata": {
    "tags": []
   },
   "outputs": [],
   "source": [
    "f=open(\"trip_data_1.csv\",'r')\n",
    "r=csv.reader(f)\n",
    "n=0\n",
    "for row in r:\n",
    "    print(\"Field Names:\",*row,sep='\\n-')\n",
    "    break"
   ]
  },
  {
   "cell_type": "markdown",
   "id": "17d05407-4942-4bc2-a048-14ba0aaf1f14",
   "metadata": {},
   "source": [
    "*Field Names and their description:*\n",
    "- **medallion**          : permits allowing an individual or company to operate a taxicab\n",
    "- **hack_license**      : driver's license\n",
    "- **vendor_id**     : company id which opereates the Taxi\n",
    "- **rate_code**        : type of fare that is applied for that ride\n",
    "- **store_and_fwd_flag** : \n",
    "- **pickup_datetime**   : datetime when the passenger was picked up\n",
    "- **dropoff_datetime**   : datetime when the passenger was dropped off\n",
    "- **passenger_count**    : count of passengers in each ride\n",
    "- **trip_time_in_secs**  : dropoff_datetime - pickup_datetime (total time in seconds to drop the passsenger to destination)\n",
    "- **trip_distance**      : distance of the trip\n",
    "- **pickup_longitude**   : longitude coordinate of the pickup location.\n",
    "- **pickup_latitude**    : latitude coordinate of the pickup location.\n",
    "- **dropoff_longitude**  : longitude coordinate of the dropoff location.\n",
    "- **dropoff_latitude**   : latitude coordinate of the dropoff location."
   ]
  },
  {
   "cell_type": "markdown",
   "id": "648d6367-846b-4b0d-b33f-2cb11dc86869",
   "metadata": {},
   "source": [
    "#### 3. Give some sample data for each field."
   ]
  },
  {
   "cell_type": "code",
   "execution_count": null,
   "id": "54b36bf9-17f0-4190-bb1d-fd2577aad1db",
   "metadata": {
    "tags": []
   },
   "outputs": [],
   "source": [
    "f=open(\"trip_data_1.csv\",'r')\n",
    "r=csv.reader(f)\n",
    "n=0\n",
    "\n",
    "for row in r:\n",
    "    print(*row,sep=\" | \")\n",
    "    n+=1\n",
    "    if n>5:\n",
    "        break"
   ]
  },
  {
   "cell_type": "code",
   "execution_count": null,
   "id": "ce448007-c1f5-47b8-b35d-5e3f1a630d01",
   "metadata": {
    "tags": []
   },
   "outputs": [],
   "source": [
    "import pprint\n",
    "f=open(\"trip_data_1.csv\",'r')\n",
    "r=csv.reader(f)\n",
    "\n",
    "keys=next(r)\n",
    "values=[]\n",
    "n=0\n",
    "for row in r:\n",
    "    if n>0:\n",
    "        values.append(row)\n",
    "    n+=1\n",
    "    if n>5:\n",
    "        break\n",
    "values\n",
    "my_dict = {key: value for key, *value in zip(keys, *values)}\n",
    "pprint.pp(my_dict)"
   ]
  },
  {
   "cell_type": "markdown",
   "id": "0e6e2f81-852b-4da0-bc19-6e812acccfc4",
   "metadata": {
    "tags": []
   },
   "source": [
    "#### 4. What MySQL data types / len would you need to store each of the fields? int(xx),      --varchar(xx),date,datetime,bool, decimal(m,d)"
   ]
  },
  {
   "cell_type": "markdown",
   "id": "f07f14e4-8d04-4a2e-80c2-5c565767bb2c",
   "metadata": {
    "tags": []
   },
   "source": [
    "*Field Names and their datatypes:*\n",
    "- **medallion**          : VARCHAR(500)\n",
    "- **hack_license**      : VARCHAR(500)\n",
    "- **vendor_id**     : VARCHAR(500)\n",
    "- **rate_code**        : INT\n",
    "- **store_and_fwd_flag** : VARCHAR(10)\n",
    "- **pickup_datetime**   : DATETIME\n",
    "- **dropoff_datetime**   : DATETIME\n",
    "- **passenger_count**    : INT\n",
    "- **trip_time_in_secs**  : INT\n",
    "- **trip_distance**      : decimal(6,2)\n",
    "- **pickup_longitude**   : decimal(10,6)\n",
    "- **pickup_latitude**    : decimal(10,6)\n",
    "- **dropoff_longitude**  : decimal(10,6)\n",
    "- **dropoff_latitude**   : decimal(10,6)"
   ]
  },
  {
   "cell_type": "markdown",
   "id": "6c837461-4f6f-40cc-b831-922c005f8582",
   "metadata": {},
   "source": [
    "#### 5. What is the geographic range of your data (min/max - X/Y)? Plot this (approximately on a map)"
   ]
  },
  {
   "cell_type": "code",
   "execution_count": null,
   "id": "c97622fc-4dd4-4a02-b257-d1de5e982172",
   "metadata": {
    "tags": []
   },
   "outputs": [],
   "source": [
    "# lets have the rows with correct lats and longs in a variable\n",
    "f=open(\"trip_data_1.csv\",'r')\n",
    "r=csv.reader(f)\n",
    "n=0\n",
    "\n",
    "\n",
    "max_pickup_lat_value = float('-inf')\n",
    "max_dropoff_lat_value = float('-inf')\n",
    "\n",
    "max_pickup_long_value = float('-inf')\n",
    "max_dropoff_long_value = float('-inf')\n",
    "\n",
    "min_pickup_long_value = float('inf')\n",
    "min_dropoff_long_value = float('inf')\n",
    "\n",
    "min_pickup_lat_value = float('inf')\n",
    "min_dropoff_lat_value = float('inf')\n",
    "\n",
    "incorrect_values=0\n",
    "blank=0\n",
    "\n",
    "\n",
    "for row in r:\n",
    "    if n!=0:\n",
    "        try:\n",
    "            long1=float(row[10])# pickup_longitude\n",
    "            lat1=float(row[11])# pickup_latitude\n",
    "            long2=float(row[12])# dropoff_longitude\n",
    "            lat2=float(row[13])# dropoff_latitude\n",
    "            \n",
    "            h_distance=math.floor(haversine_distance(lat1,long1,lat2,long2))\n",
    "            act_distance=math.floor(float(row[9]))\n",
    "            \n",
    "            if ((round(abs(long1)) not in range(1,180)) or (round(abs(long2)) not in range(1,180)) or \n",
    "                (round(abs(lat1)) not in range(1,90)) or (round(abs(lat2)) not in range(1,90))):\n",
    "                incorrect_values+=1\n",
    "            \n",
    "            else:\n",
    "                \n",
    "                if (((act_distance>0) and (abs(h_distance-act_distance) <2)) and \n",
    "                    ((int(lat1) in range(24,47)) and (int(lat2) in range(24,47)) and \n",
    "                    (int(long1) in range(-121,-69)) and (int(long2) in range(-121,-69)))):\n",
    "                                \n",
    "                    # print(\"ues\")\n",
    "                    pickup_long_values=long1\n",
    "                    pickup_lat_values=lat1\n",
    "                    dropoff_long_values=long2\n",
    "                    dropoff_lat_values=lat2\n",
    "\n",
    "                    max_pickup_lat_value=max(pickup_lat_values,max_pickup_lat_value)\n",
    "                    max_dropoff_lat_value=max(dropoff_lat_values,max_dropoff_lat_value)\n",
    "\n",
    "                    min_pickup_lat_value=min(pickup_lat_values,min_pickup_lat_value)\n",
    "                    min_dropoff_lat_value=min(dropoff_lat_values,min_dropoff_lat_value)\n",
    "\n",
    "\n",
    "                    max_pickup_long_value=max(pickup_long_values,max_pickup_long_value)\n",
    "                    max_dropoff_long_value=max(dropoff_long_values,max_dropoff_long_value)\n",
    "\n",
    "                    min_pickup_long_value=min(pickup_long_values,min_pickup_long_value)\n",
    "                    min_dropoff_long_value=min(dropoff_long_values,min_dropoff_long_value)\n",
    "                  \n",
    "        except Exception as e:\n",
    "            blank+=1\n",
    "            \n",
    "    n+=1\n",
    "\n",
    "print(\"Latitude Range: {} to {}\".format(min(min_pickup_lat_value, min_dropoff_lat_value), max(max_pickup_lat_value, max_dropoff_lat_value)))\n",
    "print(\"Longitude Range: {} to {}\".format(min(min_pickup_long_value, min_dropoff_long_value), max(max_pickup_long_value, max_dropoff_long_value)))\n",
    "    \n",
    "\n"
   ]
  },
  {
   "cell_type": "code",
   "execution_count": null,
   "id": "cd8a5848-f0bc-460c-aa2a-511cd14c2bce",
   "metadata": {
    "tags": []
   },
   "outputs": [],
   "source": [
    "# f=open(\"trip_data_1.csv\",'r')\n",
    "# r=csv.reader(f)\n",
    "# n=0\n",
    "\n",
    "# for row in r:\n",
    "#     if (row[10]=='73.93779') or (row[12]=='73.93779'):\n",
    "#         print(row)\n",
    "#         print(math.floor(haversine_distance(float(row[11]),float(row[10]),float(row[13]),float(row[12]))))\n",
    "#         print(math.floor(float(row[9])))\n",
    "#         break"
   ]
  },
  {
   "cell_type": "code",
   "execution_count": null,
   "id": "c7de3d93-6432-491c-bc23-44deef9601cf",
   "metadata": {
    "tags": []
   },
   "outputs": [],
   "source": [
    "f=open(\"trip_data_1.csv\",'r')\n",
    "r=csv.reader(f)\n",
    "\n",
    "max_pickup_lat_value = float('-inf')\n",
    "max_dropoff_lat_value = float('-inf')\n",
    "\n",
    "max_pickup_lat_value = float('-inf')\n",
    "max_dropoff_lat_value = float('-inf')\n",
    "\n",
    "min_pickup_long_value = float('inf')\n",
    "min_dropoff_long_value = float('inf')\n",
    "\n",
    "min_pickup_lat_value = float('inf')\n",
    "min_dropoff_lat_value = float('inf')\n",
    "\n",
    "\n",
    "def to_float(x):\n",
    "    if x=='':\n",
    "        return None\n",
    "    else:\n",
    "        return float(x)\n",
    "n=0\n",
    "for row in r:\n",
    "    if (n!=0) and (row[10]!='') and (row[11]!='') and (row[12]!='') and (row[13]!=''):\n",
    "        pickup_long_values=to_float(row[10])\n",
    "        pickup_lat_values=to_float(row[11])\n",
    "        dropoff_long_values=to_float(row[12])\n",
    "        dropoff_lat_values=to_float(row[13])\n",
    "        \n",
    "        max_pickup_lat_value=max(pickup_lat_values,max_pickup_lat_value)\n",
    "        max_dropoff_lat_value=max(dropoff_lat_values,max_dropoff_lat_value)\n",
    "        \n",
    "        min_pickup_lat_value=min(pickup_lat_values,min_pickup_lat_value)\n",
    "        min_dropoff_lat_value=min(dropoff_lat_values,min_dropoff_lat_value)\n",
    "\n",
    "\n",
    "        max_pickup_long_value=max(pickup_long_values,max_pickup_lat_value)\n",
    "        max_dropoff_long_value=max(dropoff_long_values,max_dropoff_lat_value)\n",
    "        \n",
    "        min_pickup_long_value=min(pickup_long_values,min_pickup_long_value)\n",
    "        min_dropoff_long_value=min(dropoff_long_values,min_dropoff_long_value)\n",
    "        \n",
    "    n+=1\n",
    "\n",
    "print(\"Latitude Range: {} to {}\".format(min(min_pickup_lat_value, min_dropoff_lat_value), max(max_pickup_lat_value, max_dropoff_lat_value)))\n",
    "print(\"Longitude Range: {} to {}\".format(min(min_pickup_long_value, min_dropoff_long_value), max(max_pickup_long_value, max_dropoff_long_value)))\n",
    "    "
   ]
  },
  {
   "cell_type": "markdown",
   "id": "98576ce1-0f1f-49df-a7b6-67ea6889674b",
   "metadata": {
    "tags": []
   },
   "source": [
    "#### 6. What is the average computed trip distance? (You should use Haversine Distance)"
   ]
  },
  {
   "cell_type": "code",
   "execution_count": null,
   "id": "68627373-c29a-4122-9607-4d00ca93a178",
   "metadata": {
    "tags": []
   },
   "outputs": [],
   "source": [
    "from math import radians, sin, cos, sqrt, atan2\n",
    "\n",
    "def haversine_distance(lat1, lon1, lat2, lon2):\n",
    "    lat1, lon1, lat2, lon2 = map(radians, [lat1, lon1, lat2, lon2])\n",
    "\n",
    "    # Haversine formula\n",
    "    dlat = lat2 - lat1\n",
    "    dlon = lon2 - lon1\n",
    "    a = sin(dlat / 2) ** 2 + cos(lat1) * cos(lat2) * sin(dlon / 2) ** 2\n",
    "    c = 2 * atan2(sqrt(a), sqrt(1 - a))\n",
    "\n",
    "    # Radius of Earth in kilometers (you can use 6371.0 km for distance in km)\n",
    "    radius = 3958.8\n",
    "\n",
    "    # Calculate the distance\n",
    "    distance = radius * c\n",
    "\n",
    "    return distance"
   ]
  },
  {
   "cell_type": "code",
   "execution_count": null,
   "id": "a805cfe2-d16a-4022-ae59-48fe07902a39",
   "metadata": {
    "tags": []
   },
   "outputs": [],
   "source": [
    "f=open(\"trip_data_1.csv\",'r')\n",
    "r=csv.reader(f)\n",
    "h_distance=[]\n",
    "actual_distance=[]\n",
    "n=0\n",
    "for row in r:\n",
    "    if (n!=0) and (row[10]!='') and (row[11]!='') and (row[12]!='') and (row[13]!=''):\n",
    "        # to exclude headers and skip blanks for lat and lon values \n",
    "        h_distance.append(haversine_distance(float(row[11]),float(row[10]),float(row[13]),float(row[12])))\n",
    "        actual_distance.append(float(row[9]))\n",
    "    n+=1\n",
    "\n",
    "print(\"Average computed trip distance using haversine_distance: {} miles\".format(round(sum(h_distance)/len(h_distance),0)))\n",
    "print(\"Average computed trip distance using trip_distance column: {} miles\".format(round(sum(actual_distance)/len(actual_distance),0)))"
   ]
  },
  {
   "cell_type": "code",
   "execution_count": null,
   "id": "be7eb74f-973f-4792-9823-280121d0256f",
   "metadata": {
    "tags": []
   },
   "outputs": [],
   "source": [
    "f=open(\"trip_data_1.csv\",'r')\n",
    "r=csv.reader(f)\n",
    "\n",
    "n=0\n",
    "\n",
    "incorrect_values=0\n",
    "correct_values=0\n",
    "blanks=0\n",
    "\n",
    "for row in r:\n",
    "    if n!=0:\n",
    "        try:\n",
    "            long1=float(row[10])# pickup_longitude\n",
    "            lat1=float(row[11])# pickup_latitude\n",
    "            long2=float(row[12])# dropoff_longitude\n",
    "            lat2=float(row[13])# dropoff_latitude\n",
    "            \n",
    "            if ((round(abs(long1)) not in range(1,180)) or (round(abs(long2)) not in range(1,180)) or \n",
    "                (round(abs(lat1)) not in range(1,90)) or (round(abs(lat2)) not in range(1,90))):\n",
    "                incorrect_values+=1\n",
    "        \n",
    "            else:\n",
    "                correct_values+=1\n",
    "                \n",
    "        except Exception as e:\n",
    "            blanks+=1\n",
    "            \n",
    "    n+=1\n",
    "\n",
    "print(\"Total rows : {}\".format(total_rows))\n",
    "print(\"Rows with incorrect_values:\",incorrect_values)\n",
    "print(\"Rows with blanks:\",blanks)\n",
    "print(\"Total rows with incorrect coordinates : {} \".format(incorrect_values+blanks))\n",
    "print(\"Percentage of incorrect values : \",round(((incorrect_values+blanks)/total_rows)*100,0),\"%\")"
   ]
  },
  {
   "cell_type": "code",
   "execution_count": null,
   "id": "18496b1a-a12a-4a43-98ef-05ca5ee5a2a9",
   "metadata": {
    "tags": []
   },
   "outputs": [],
   "source": [
    "f=open(\"trip_data_1.csv\",'r')\n",
    "r=csv.reader(f)\n",
    "n=0\n",
    "\n",
    "# f2=open(\"incorrect_cords.csv\",'w')\n",
    "# f2.write('')\n",
    "# f2.close()\n",
    "# f2=open('incorrect_cords.csv','a')\n",
    "# w=csv.writer(f2,delimiter=',',lineterminator='\\n')\n",
    "\n",
    "# f3=open(\"correct_cords.csv\",'w')\n",
    "# f3.write('')\n",
    "# f3.close()\n",
    "# f3=open('correct_cords.csv','a')\n",
    "# y=csv.writer(f2,delimiter=',',lineterminator='\\n')\n",
    "\n",
    "\n",
    "\n",
    "incorrect_values=0\n",
    "correct_values=0\n",
    "blank=0\n",
    "\n",
    "h_distance=[]\n",
    "actual_distance=[]\n",
    "\n",
    "\n",
    "for row in r:\n",
    "    if n!=0:\n",
    "        try:\n",
    "            long1=float(row[10])# pickup_longitude\n",
    "            lat1=float(row[11])# pickup_latitude\n",
    "            long2=float(row[12])# dropoff_longitude\n",
    "            lat2=float(row[13])# dropoff_latitude\n",
    "            \n",
    "            if ((round(abs(long1)) not in range(1,180)) or (round(abs(long2)) not in range(1,180)) or \n",
    "                (round(abs(lat1)) not in range(1,90)) or (round(abs(lat2)) not in range(1,90))):\n",
    "                incorrect_values+=1\n",
    "            \n",
    "                # w.writerow(row)\n",
    "            else:\n",
    "                # y.writerow(row)\n",
    "                correct_values+=1\n",
    "                h_distance.append(haversine_distance(float(row[11]),float(row[10]),float(row[13]),float(row[12])))\n",
    "                actual_distance.append(float(row[9]))\n",
    "                \n",
    "        except Exception as e:\n",
    "            blank+=1\n",
    "            \n",
    "    n+=1\n",
    "\n",
    "# print(\"Total_rows : {}\".format(total_rows))\n",
    "# print(\"rows with incorrect coordinates : {} \".format(incorrect_values+blank))\n",
    "# print(\"Percentage of incorrect values : \",round(((incorrect_values+blank)/total_rows)*100,0),\"%\")\n",
    "print(\"Average computed trip distance using haversine_distance: {} miles\".format(round(sum(h_distance)/len(h_distance),2)))\n",
    "print(\"Average computed trip distance using trip_distance column: {} miles\".format(round(sum(actual_distance)/len(actual_distance),2)))\n",
    "\n",
    "    \n",
    "# f2.close()"
   ]
  },
  {
   "cell_type": "code",
   "execution_count": null,
   "id": "642428c2-223e-4de7-99b1-9716fdca412c",
   "metadata": {
    "tags": []
   },
   "outputs": [],
   "source": [
    "# for git\n",
    "f=open(\"trip_data_1.csv\",'r')\n",
    "r=csv.reader(f)\n",
    "n=0\n",
    "\n",
    "incorrect_values=0\n",
    "correct_values=0\n",
    "blank=0\n",
    "\n",
    "h_distance=[]\n",
    "actual_distance=[]\n",
    "\n",
    "\n",
    "for row in r:\n",
    "    if n!=0:\n",
    "        try:\n",
    "            long1=float(row[10])# pickup_longitude\n",
    "            lat1=float(row[11])# pickup_latitude\n",
    "            long2=float(row[12])# dropoff_longitude\n",
    "            lat2=float(row[13])# dropoff_latitude\n",
    "            \n",
    "            if ((round(abs(long1)) not in range(1,180)) or (round(abs(long2)) not in range(1,180)) or \n",
    "                (round(abs(lat1)) not in range(1,90)) or (round(abs(lat2)) not in range(1,90))):\n",
    "                incorrect_values+=1\n",
    "        \n",
    "            else:\n",
    "                correct_values+=1\n",
    "                h_distance.append(haversine_distance(float(row[11]),float(row[10]),float(row[13]),float(row[12])))\n",
    "                actual_distance.append(float(row[9]))\n",
    "                \n",
    "        except Exception as e:\n",
    "            blank+=1\n",
    "            \n",
    "    n+=1\n",
    "print(\"Total_rows : {}\".format(total_rows))\n",
    "print(\"Rows with incorrect coordinates : {} \".format(incorrect_values+blank))\n",
    "print(\"Percentage of incorrect values : \",round(((incorrect_values+blank)/total_rows)*100,0),\"%\")\n",
    "print(\"Average computed trip distance using haversine_distance: {} miles\".format(round(sum(h_distance)/len(h_distance),2)))\n",
    "print(\"Average computed trip distance using trip_distance column: {} miles\".format(round(sum(actual_distance)/len(actual_distance),2)))\n"
   ]
  },
  {
   "cell_type": "markdown",
   "id": "12202184-cd92-4f08-b667-dc6810da671a",
   "metadata": {
    "tags": []
   },
   "source": [
    "#### 7. Draw a histogram of the trip distances binned anyway you see fit.\n"
   ]
  },
  {
   "cell_type": "code",
   "execution_count": null,
   "id": "0edb1e99-445a-4cbe-8181-80af1e7d745e",
   "metadata": {
    "tags": []
   },
   "outputs": [],
   "source": [
    "import plotly.express as px\n",
    "\n",
    "f=open(\"trip_data_1.csv\",'r')\n",
    "r=csv.reader(f)\n",
    "td=[]\n",
    "n=0\n",
    "for row in r:\n",
    "    if n!=0:\n",
    "        td.append(float(row[9]))\n",
    "    n+=1\n",
    "    \n",
    "fig = px.histogram(td,\n",
    "                   nbins=100, \n",
    "                   title=\"Trip Distance\", \n",
    "                   labels={'value': 'Distance (miles)', 'count': 'Frequency'})\n",
    "\n",
    "fig.show()"
   ]
  },
  {
   "cell_type": "code",
   "execution_count": null,
   "id": "86258fc2-f8db-45a0-b9d3-cab7bd4924a2",
   "metadata": {
    "tags": []
   },
   "outputs": [],
   "source": [
    "# fig = px.histogram(td,\n",
    "#                    nbins=30, \n",
    "#                    title=\"Trip Distance\", \n",
    "#                    labels={'value': 'Distance (miles)', 'count': 'Frequency'},\n",
    "#                   bins)\n",
    "\n",
    "# fig.show()"
   ]
  },
  {
   "cell_type": "code",
   "execution_count": null,
   "id": "1030aa87-12f5-41be-884a-fe7387973afb",
   "metadata": {
    "tags": []
   },
   "outputs": [],
   "source": [
    "import seaborn as sns     \n",
    "sns.set()\n",
    "import matplotlib.pyplot as plt\n",
    "%matplotlib inline\n",
    "\n",
    "sns.histplot(td,kde=False,bins=30,binrange=(1,30))"
   ]
  },
  {
   "cell_type": "markdown",
   "id": "87f96998-70ac-49b9-ae3a-67deb9a417ff",
   "metadata": {
    "tags": []
   },
   "source": [
    "#### 8. What are the distinct values for each field? (If applicable)"
   ]
  },
  {
   "cell_type": "code",
   "execution_count": null,
   "id": "8c40d3ee-fd63-4378-9614-791ddff08f00",
   "metadata": {
    "tags": []
   },
   "outputs": [],
   "source": [
    "\n",
    "f=open(\"trip_data_1.csv\",'r')\n",
    "r=csv.reader(f)\n",
    "n=0\n",
    "medallion=[]\n",
    "hack_license=[]\n",
    "vendors=[]\n",
    "rate_code=[]\n",
    "store_and_fwd_flag=[]\n",
    "passenger_count=[]\n",
    "\n",
    "for row in r:\n",
    "    if n!=0:\n",
    "        medallion.append(row[0])   \n",
    "        hack_license.append(row[1])\n",
    "        vendors.append(row[2])\n",
    "        rate_code.append(row[3])\n",
    "        store_and_fwd_flag.append(row[4])\n",
    "        passenger_count.append(row[7])\n",
    "    n+=1\n",
    "\n",
    "\n",
    "        \n",
    "\n"
   ]
  },
  {
   "cell_type": "code",
   "execution_count": null,
   "id": "a88955f5-350c-4d91-8fcf-e6cbfa6eb664",
   "metadata": {
    "tags": []
   },
   "outputs": [],
   "source": [
    "print(\"Unique Vendors:\",set(vendors))\n",
    "print(\"Unique rate_code:\",set(rate_code))\n",
    "print(\"Unique store_and_fwd_flag:\",set(store_and_fwd_flag))\n",
    "print(\"Unique passenger_count:\",set(passenger_count))\n",
    "# print(\"Unique hack_license:\",set(hack_license))"
   ]
  },
  {
   "cell_type": "markdown",
   "id": "e131bb8e-186e-45a3-9295-1de1f3faedb6",
   "metadata": {
    "tags": []
   },
   "source": [
    "#### 9. For other numeric types besides lat and lon, what are the min and max values?"
   ]
  },
  {
   "cell_type": "code",
   "execution_count": null,
   "id": "3ce26a3a-2471-4f57-a24c-86c4dc17ef31",
   "metadata": {
    "tags": []
   },
   "outputs": [],
   "source": [
    "import csv\n",
    "f=open(\"trip_data_1.csv\",'r')\n",
    "r=csv.reader(f)\n",
    "\n",
    "n=0\n",
    "\n",
    "pc_max=float('-inf')\n",
    "pc_min=float('inf')\n",
    "\n",
    "tt_max=float('-inf')\n",
    "tt_min=float('inf')\n",
    "\n",
    "td_max=float('-inf')\n",
    "td_min=float('inf')\n",
    "\n",
    "n=0\n",
    "for row in r:\n",
    "    \n",
    "    if n!=0:\n",
    "        if (float(row[7])>0) and (float(row[8])>0) and (float(row[9])>0):\n",
    "            pc=float(row[7])\n",
    "            pc_max=max(pc_max,pc)\n",
    "            pc_min=min(pc_min,pc)\n",
    "\n",
    "            tt=float(row[8])\n",
    "            tt_max=max(tt_max,tt)\n",
    "            tt_min=min(tt_min,tt)\n",
    "\n",
    "            td=float(row[9])\n",
    "            td_max=max(td_max,td)\n",
    "            td_min=min(td_min,td)\n",
    "    \n",
    "    n+=1\n",
    "\n",
    "print(\"passenger_count_max | passenger_count_min | triptime_mx | triptime_min | tripdistance_mx | tripdistance_min\")\n",
    "print(pc_max,\"              |\",pc_min,\"                |\",tt_max,\"    |\",tt_min,\"         |\",td_max,\"          |\",td_min)\n",
    "\n",
    "# other numeric columns : passenger_count,trip_time_in_secs,trip_distance\n"
   ]
  },
  {
   "cell_type": "code",
   "execution_count": null,
   "id": "4f5326d2-586f-449f-81ed-d4746854e00b",
   "metadata": {
    "tags": []
   },
   "outputs": [],
   "source": [
    "print(\"passenger_count_max | passenger_count_min | triptime_mx | triptime_min | tripdistance_mx | tripdistance_min\")\n",
    "print(pc_max,\"              |\",pc_min,\"                |\",tt_max,\"    |\",tt_min,\"         |\",td_max,\"          |\",td_min)"
   ]
  },
  {
   "cell_type": "markdown",
   "id": "eb0647b9-a0d6-4420-9035-f33d818e2fb5",
   "metadata": {
    "tags": []
   },
   "source": [
    "#### 10. Create a chart which shows the average number of passengers each hour of the day. (X axis should have 24 hours)"
   ]
  },
  {
   "cell_type": "code",
   "execution_count": null,
   "id": "4c3de245-c5f8-416c-9647-3b0f5b14b6fd",
   "metadata": {
    "tags": []
   },
   "outputs": [],
   "source": [
    "import datetime as dt\n",
    "f=open(\"trip_data_1.csv\",'r')\n",
    "r=csv.reader(f)\n",
    "\n",
    "pph={}\n",
    "n=0\n",
    "\n",
    "for row in r:\n",
    "    if n!=0 and (float(row[7]) in range(1,10)):\n",
    "        pickup_date=dt.datetime.strptime(row[5],\"%Y-%m-%d %H:%M:%S\")\n",
    "        hr=pickup_date.hour\n",
    "        if hr in pph:\n",
    "            pph[hr]['Passenger_Count']+=float(row[7])\n",
    "            pph[hr]['trip_count']+=1\n",
    "        else:\n",
    "            pph[hr]={}\n",
    "            pph[hr]['Passenger_Count']=float(row[7])\n",
    "            pph[hr]['trip_count']=1\n",
    "    n+=1\n",
    "\n",
    "        \n",
    "pph=dict(sorted(pph.items(),key=lambda item:item[0],reverse=True))\n",
    "print(pph)"
   ]
  },
  {
   "cell_type": "code",
   "execution_count": null,
   "id": "e649f59d-fb11-4d98-930f-276f9c482615",
   "metadata": {
    "tags": []
   },
   "outputs": [],
   "source": [
    "import pprint\n",
    "pprint.pp(pph)"
   ]
  },
  {
   "cell_type": "code",
   "execution_count": null,
   "id": "fac537ad-98b9-4109-912e-b59fcf140cc8",
   "metadata": {
    "tags": []
   },
   "outputs": [],
   "source": [
    "apph={}\n",
    "for k,v in pph.items():\n",
    "    apph[k]=v['Passenger_Count']/v['trip_count']\n",
    "apph\n",
    "        "
   ]
  },
  {
   "cell_type": "code",
   "execution_count": null,
   "id": "5dc3e6f2-0622-41d9-8135-0e62c8864a5a",
   "metadata": {
    "tags": []
   },
   "outputs": [],
   "source": [
    "import plotly.express as px\n",
    "import plotly.graph_objects as go\n",
    "\n",
    "fig = px.line(x=apph.keys(),\n",
    "             y=apph.values(),\n",
    "                   title=\"Average passengers per each hour | Original Dataset\",\n",
    "              \n",
    "             )\n",
    "fig.update_layout(\n",
    "   xaxis = dict(\n",
    "      tickmode = 'linear'\n",
    "   ),\n",
    "    xaxis_title=\"Hour\",\n",
    "    yaxis_title=\"Passenger_count\"\n",
    ")\n",
    "fig.show()"
   ]
  },
  {
   "cell_type": "markdown",
   "id": "2b95676e-ad9e-4490-8720-d6d54abaf40a",
   "metadata": {
    "tags": []
   },
   "source": [
    "#### 11. Create a new CSV file which has only one out of every thousand rows."
   ]
  },
  {
   "cell_type": "code",
   "execution_count": null,
   "id": "2a575a5f-5357-4232-96df-b150f734b09e",
   "metadata": {
    "tags": []
   },
   "outputs": [],
   "source": [
    "import csv\n",
    "import numpy as np\n",
    "\n",
    "# get random numbers from each 1000 numbers\n",
    "rand_idx=[]\n",
    "n=0\n",
    "x=0\n",
    "y=1000\n",
    "while(n<total_rows):\n",
    "    rand_idx.append(np.random.randint(x,y))\n",
    "    x=y+1\n",
    "    y+=1000\n",
    "    n+=1000\n",
    "    \n",
    "rand_idx[0:10]"
   ]
  },
  {
   "cell_type": "code",
   "execution_count": null,
   "id": "2e211725-2f65-4c96-8595-c2f7bd5a9c58",
   "metadata": {},
   "outputs": [],
   "source": [
    "n=0\n",
    "\n",
    "f=open(\"trip_data_1.csv\",'r')\n",
    "r=csv.reader(f)\n",
    "\n",
    "f2=open(\"one_outof_1000.csv\",'w')\n",
    "f2.write('')\n",
    "f2.close()\n",
    "f2=open('one_outof_1000.csv','a')\n",
    "w=csv.writer(f2,delimiter=',',lineterminator='\\n')\n",
    "\n",
    "\n",
    "for row in r:\n",
    "    if n in rand_idx:\n",
    "        w.writerow(row)\n",
    "    n+=1\n",
    "\n",
    "f.close()\n",
    "f2.close()"
   ]
  },
  {
   "cell_type": "markdown",
   "id": "e3ece6f7-3853-48b3-ab03-59b1c47440ef",
   "metadata": {
    "tags": []
   },
   "source": [
    "#### 12. Repeat step 9 with the reduced dataset and compare the two charts."
   ]
  },
  {
   "cell_type": "code",
   "execution_count": null,
   "id": "8b292204-bdba-4e6c-9138-706b4eee44da",
   "metadata": {
    "tags": []
   },
   "outputs": [],
   "source": [
    "import csv\n",
    "f=open(\"one_outof_1000.csv\",'r')\n",
    "r=csv.reader(f)\n",
    "\n",
    "n=0\n",
    "\n",
    "pc_max=float('-inf')\n",
    "pc_min=float('inf')\n",
    "\n",
    "tt_max=float('-inf')\n",
    "tt_min=float('inf')\n",
    "\n",
    "td_max=float('-inf')\n",
    "td_min=float('inf')\n",
    "\n",
    "n=0\n",
    "for row in r:\n",
    "    \n",
    "    if n!=0:\n",
    "        if (float(row[7])>0) and (float(row[8])>0) and (float(row[9])>0):\n",
    "            pc=float(row[7])\n",
    "            pc_max=max(pc_max,pc)\n",
    "            pc_min=min(pc_min,pc)\n",
    "\n",
    "            tt=float(row[8])\n",
    "            tt_max=max(tt_max,tt)\n",
    "            tt_min=min(tt_min,tt)\n",
    "\n",
    "            td=float(row[9])\n",
    "            td_max=max(td_max,td)\n",
    "            td_min=min(td_min,td)\n",
    "    \n",
    "    n+=1\n",
    "\n",
    "print(\"passenger_count_max | passenger_count_min | triptime_mx | triptime_min | tripdistance_mx | tripdistance_min\")\n",
    "print(pc_max,\"                |\",pc_min,\"                |\",tt_max,\"     |\",tt_min,\"         |\",td_max,\"          |\",td_min)\n",
    "\n",
    "# other numeric columns : passenger_count,trip_time_in_secs,trip_distance\n"
   ]
  },
  {
   "cell_type": "code",
   "execution_count": null,
   "id": "855bd920-02da-4a93-be4c-3827c29b595e",
   "metadata": {
    "tags": []
   },
   "outputs": [],
   "source": [
    "# average passengers per each hour\n",
    "f=open(\"one_outof_1000.csv\",'r')\n",
    "r=csv.reader(f)\n",
    "\n",
    "pph={}\n",
    "n=0\n",
    "\n",
    "for row in r:\n",
    "    if n!=0 and (float(row[7]) in range(1,10)):\n",
    "        pickup_date=dt.datetime.strptime(row[5],\"%Y-%m-%d %H:%M:%S\")\n",
    "        hr=pickup_date.hour\n",
    "        if hr in pph:\n",
    "            pph[hr]['Passenger_Count']+=float(row[7])\n",
    "            pph[hr]['trip_count']+=1\n",
    "        else:\n",
    "            pph[hr]={}\n",
    "            pph[hr]['Passenger_Count']=float(row[7])\n",
    "            pph[hr]['trip_count']=1\n",
    "    n+=1\n",
    "\n",
    "        \n",
    "pph=dict(sorted(pph.items(),key=lambda item:item[0],reverse=True))\n",
    "\n",
    "apph_reduced={}\n",
    "for k,v in pph.items():\n",
    "    apph_reduced[k]=v['Passenger_Count']/v['trip_count']\n",
    "\n",
    "\n",
    "    \n",
    "fig = px.line(x=apph_reduced.keys(),\n",
    "             y=apph_reduced.values(),\n",
    "                   title=\"Average passengers per each hour | Reduced Dataset\",\n",
    "             )\n",
    "fig.update_layout(\n",
    "   xaxis = dict(\n",
    "      tickmode = 'linear'\n",
    "   ),\n",
    "    xaxis_title=\"Hour\",\n",
    "    yaxis_title=\"Passenger_count\"\n",
    ")\n",
    "fig.show()"
   ]
  },
  {
   "cell_type": "code",
   "execution_count": null,
   "id": "e4dba2cc-9a52-448b-81b6-53cff0cae398",
   "metadata": {
    "tags": []
   },
   "outputs": [],
   "source": [
    "fig = px.line(x=apph.keys(),\n",
    "             y=apph.values(),\n",
    "                   title=\"Average passengers per each hour | Original Dataset\",\n",
    "              \n",
    "             )\n",
    "fig.update_layout(\n",
    "   xaxis = dict(\n",
    "      tickmode = 'linear'\n",
    "   ),\n",
    "    xaxis_title=\"Hour\",\n",
    "    yaxis_title=\"Passenger_count\"\n",
    ")\n",
    "fig.show()\n",
    "\n",
    "fig = px.line(x=apph_reduced.keys(),\n",
    "             y=apph_reduced.values(),\n",
    "                   title=\"Average passengers per each hour | Reduced Dataset\",\n",
    "             )\n",
    "fig.update_layout(\n",
    "   xaxis = dict(\n",
    "      tickmode = 'linear'\n",
    "   )\n",
    ")\n",
    "fig.show()"
   ]
  },
  {
   "cell_type": "code",
   "execution_count": null,
   "id": "3404c662-f1c4-476a-bf87-1b004cc635a4",
   "metadata": {
    "tags": []
   },
   "outputs": [],
   "source": [
    "# chart 2\n",
    "\n",
    "f=open(\"one_outof_1000.csv\",'r')\n",
    "r=csv.reader(f)\n",
    "td_reduced=[]\n",
    "n=0\n",
    "for row in r:\n",
    "    if n!=0:\n",
    "        td_reduced.append(float(row[9]))\n",
    "    n+=1\n",
    "    \n",
    "import seaborn as sns     \n",
    "sns.set()\n",
    "import matplotlib.pyplot as plt\n",
    "%matplotlib inline\n",
    "\n",
    "\n",
    "# sns.histplot(td_reduced,kde=False,bins=30,binrange=(1,30)).set(title=\"Trip Distance Frequency plot | Reduced Dataset\")\n",
    "\n"
   ]
  },
  {
   "cell_type": "code",
   "execution_count": null,
   "id": "dd050539-071a-4c03-8635-dd98619cdd28",
   "metadata": {
    "tags": []
   },
   "outputs": [],
   "source": [
    "# sns.histplot(td,kde=False,bins=30,binrange=(1,30)).set(title=\"Trip Distance Frequency plot | Original Dataset\")"
   ]
  },
  {
   "cell_type": "code",
   "execution_count": null,
   "id": "2de5adc1-16da-4a18-891c-53ee0f625d26",
   "metadata": {
    "tags": []
   },
   "outputs": [],
   "source": [
    "plt.rcParams[\"figure.figsize\"] = [7.00, 3.50]\n",
    "plt.rcParams[\"figure.autolayout\"] = True\n",
    "f, axes = plt.subplots(1, 2)\n",
    "\n",
    "sns.histplot(td,kde=False,bins=30,binrange=(1,30),ax=axes[0]).set(title=\"TripDistance Freq plot | Original Dataset\")\n",
    "sns.histplot(td_reduced,kde=False,bins=30,binrange=(1,30),ax=axes[1]).set(title=\"TripDistance Freq plot | Reduced Dataset\")\n",
    "plt.show()"
   ]
  },
  {
   "cell_type": "code",
   "execution_count": null,
   "id": "6d40f25a-6a3c-463c-8c72-bed1b50a187e",
   "metadata": {},
   "outputs": [],
   "source": []
  }
 ],
 "metadata": {
  "kernelspec": {
   "display_name": "Python 3 (ipykernel)",
   "language": "python",
   "name": "python3"
  },
  "language_info": {
   "codemirror_mode": {
    "name": "ipython",
    "version": 3
   },
   "file_extension": ".py",
   "mimetype": "text/x-python",
   "name": "python",
   "nbconvert_exporter": "python",
   "pygments_lexer": "ipython3",
   "version": "3.11.4"
  }
 },
 "nbformat": 4,
 "nbformat_minor": 5
}
